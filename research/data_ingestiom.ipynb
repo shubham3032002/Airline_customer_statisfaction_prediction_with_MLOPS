{
 "cells": [
  {
   "cell_type": "code",
   "execution_count": 2,
   "metadata": {},
   "outputs": [
    {
     "name": "stdout",
     "output_type": "stream",
     "text": [
      "hello\n"
     ]
    }
   ],
   "source": [
    "print(\"hello\")"
   ]
  },
  {
   "cell_type": "code",
   "execution_count": 33,
   "metadata": {},
   "outputs": [
    {
     "data": {
      "text/plain": [
       "'d:\\\\DATA SCIENCE\\\\ML project\\\\Airline_customer_statisfaction_prediction_with_MLOPS\\\\research'"
      ]
     },
     "execution_count": 33,
     "metadata": {},
     "output_type": "execute_result"
    }
   ],
   "source": [
    "%pwd"
   ]
  },
  {
   "cell_type": "code",
   "execution_count": 34,
   "metadata": {},
   "outputs": [],
   "source": [
    "import os\n",
    "os.chdir(\"../\")"
   ]
  },
  {
   "cell_type": "code",
   "execution_count": 35,
   "metadata": {},
   "outputs": [
    {
     "data": {
      "text/plain": [
       "'d:\\\\DATA SCIENCE\\\\ML project\\\\Airline_customer_statisfaction_prediction_with_MLOPS'"
      ]
     },
     "execution_count": 35,
     "metadata": {},
     "output_type": "execute_result"
    }
   ],
   "source": [
    "%pwd"
   ]
  },
  {
   "cell_type": "code",
   "execution_count": 48,
   "metadata": {},
   "outputs": [],
   "source": [
    "\n",
    "import mysql.connector\n",
    "from mysql.connector import Error\n",
    "import os\n",
    "import csv\n",
    "import sys\n",
    "from pathlib import Path\n",
    "from dataclasses import dataclass\n",
    "from contextlib import contextmanager\n",
    "\n",
    "from src.airline.constants import CONFIG_FILE_PATH, PARAMS_FILE_PATH\n",
    "from src.airline.utils.comman import read_yaml_file, create_directories\n",
    "from src.airline.exception import customException\n",
    "from src.airline.logger import logging"
   ]
  },
  {
   "cell_type": "code",
   "execution_count": 49,
   "metadata": {},
   "outputs": [],
   "source": [
    "@dataclass(frozen=True)\n",
    "class DataIngestionConfig:\n",
    "    host: str\n",
    "    user: str\n",
    "    password: str\n",
    "    database: str\n",
    "    table_name: str\n",
    "    root: Path\n",
    "    local_data_file: Path\n"
   ]
  },
  {
   "cell_type": "code",
   "execution_count": 55,
   "metadata": {},
   "outputs": [],
   "source": [
    "class ConfigurationManager:\n",
    "    def __init__(self, config_filepath=CONFIG_FILE_PATH):\n",
    "        self.config = read_yaml_file(config_filepath)\n",
    "\n",
    "    def get_data_ingestion_config(self) -> DataIngestionConfig:\n",
    "        config = self.config[\"data_ingestion\"]\n",
    "        create_directories([config[\"root_dir\"]])\n",
    "\n",
    "        return DataIngestionConfig(\n",
    "            root=Path(config[\"root_dir\"]),\n",
    "            host=config[\"host\"],\n",
    "            user=config[\"user\"],\n",
    "            password=config[\"password\"],\n",
    "            database=config[\"database\"],\n",
    "            table_name=config[\"table_name\"],\n",
    "            local_data_file=Path(config[\"local_data_file\"]),\n",
    "        )"
   ]
  },
  {
   "cell_type": "code",
   "execution_count": 56,
   "metadata": {},
   "outputs": [],
   "source": [
    "\n",
    "\n",
    "class DataIngestion:\n",
    "    def __init__(self, config: DataIngestionConfig):\n",
    "        self.config = config\n",
    "        self.connection = None\n",
    "\n",
    "    @contextmanager\n",
    "    def get_connection(self):\n",
    "        \"\"\"Context manager for MySQL connection.\"\"\"\n",
    "        connection = mysql.connector.connect(\n",
    "            host=self.config.host,\n",
    "            user=self.config.user,\n",
    "            password=self.config.password,\n",
    "            database=self.config.database\n",
    "        )\n",
    "        try:\n",
    "            yield connection\n",
    "        finally:\n",
    "            if connection.is_connected():\n",
    "                connection.close()\n",
    "                logging.info(\"Database connection closed successfully.\")\n"
   ]
  },
  {
   "cell_type": "code",
   "execution_count": 57,
   "metadata": {},
   "outputs": [],
   "source": [
    "class MySqlDataExtractor:\n",
    "    def __init__(self, config: DataIngestionConfig):\n",
    "        self.db = DataIngestion(config)\n",
    "        self.table_name = config.table_name\n",
    "\n",
    "    def extract_to_csv(self, output_dir: Path):\n",
    "        \"\"\"Extract data from MySQL table and save to a CSV file.\"\"\"\n",
    "        try:\n",
    "            with self.db.get_connection() as connection:\n",
    "                cursor = connection.cursor()\n",
    "                query = f\"SELECT * FROM {self.table_name}\"\n",
    "                cursor.execute(query)\n",
    "\n",
    "                rows = cursor.fetchall()\n",
    "                columns = [desc[0] for desc in cursor.description]\n",
    "\n",
    "                logging.info(\"Data fetched successfully.\")\n",
    "\n",
    "                # Ensure output directory exists\n",
    "                output_dir.mkdir(parents=True, exist_ok=True)\n",
    "                csv_file = output_dir / f\"{self.table_name}_data.csv\"\n",
    "\n",
    "                with csv_file.open(mode=\"w\", newline=\"\", encoding=\"utf-8\") as file:\n",
    "                    writer = csv.writer(file)\n",
    "                    writer.writerow(columns)\n",
    "                    writer.writerows(rows)\n",
    "\n",
    "                logging.info(f\"Data successfully saved to {csv_file}\")\n",
    "\n",
    "        except Exception as e:\n",
    "            logging.error(f\"Error while extracting data from the database: {str(e)}\")\n",
    "            raise customException(e, sys)"
   ]
  },
  {
   "cell_type": "code",
   "execution_count": 58,
   "metadata": {},
   "outputs": [
    {
     "ename": "",
     "evalue": "",
     "output_type": "error",
     "traceback": [
      "\u001b[1;31mThe Kernel crashed while executing code in the current cell or a previous cell. \n",
      "\u001b[1;31mPlease review the code in the cell(s) to identify a possible cause of the failure. \n",
      "\u001b[1;31mClick <a href='https://aka.ms/vscodeJupyterKernelCrash'>here</a> for more info. \n",
      "\u001b[1;31mView Jupyter <a href='command:jupyter.viewOutput'>log</a> for further details."
     ]
    }
   ],
   "source": [
    "try:\n",
    "     config_manager = ConfigurationManager()\n",
    "     data_ingestion_config = config_manager.get_data_ingestion_config()\n",
    "\n",
    "        # Initialize Data Extraction and Extraction Process\n",
    "     data_extractor = MySqlDataExtractor(config=data_ingestion_config)\n",
    "\n",
    "        # Extract data and save to CSV\n",
    "     data_extractor.extract_to_csv(output_dir=data_ingestion_config.root / \"extracted_data\")\n",
    "\n",
    "except Exception as e:\n",
    "        logging.error(f\"An error occurred: {e}\")\n",
    "        raise e"
   ]
  },
  {
   "cell_type": "code",
   "execution_count": 1,
   "metadata": {},
   "outputs": [
    {
     "ename": "",
     "evalue": "",
     "output_type": "error",
     "traceback": [
      "\u001b[1;31mThe Kernel crashed while executing code in the current cell or a previous cell. \n",
      "\u001b[1;31mPlease review the code in the cell(s) to identify a possible cause of the failure. \n",
      "\u001b[1;31mClick <a href='https://aka.ms/vscodeJupyterKernelCrash'>here</a> for more info. \n",
      "\u001b[1;31mView Jupyter <a href='command:jupyter.viewOutput'>log</a> for further details."
     ]
    }
   ],
   "source": [
    "# Check if the connection works outside the script\n",
    "import mysql.connector\n",
    "\n",
    "try:\n",
    "    connection = mysql.connector.connect(\n",
    "        host=\"localhost\",\n",
    "        user=\"root\",\n",
    "        password=\"password@123\",\n",
    "        database=\"airline_database\"\n",
    "    )\n",
    "    print(\"Connection successful!\")\n",
    "except mysql.connector.Error as err:\n",
    "    print(f\"Error: {err}\")\n",
    "finally:\n",
    "    if connection and connection.is_connected():\n",
    "        connection.close()\n",
    "        print(\"Connection closed.\")\n"
   ]
  },
  {
   "cell_type": "code",
   "execution_count": null,
   "metadata": {},
   "outputs": [],
   "source": []
  },
  {
   "cell_type": "code",
   "execution_count": null,
   "metadata": {},
   "outputs": [],
   "source": []
  }
 ],
 "metadata": {
  "kernelspec": {
   "display_name": "air",
   "language": "python",
   "name": "python3"
  },
  "language_info": {
   "codemirror_mode": {
    "name": "ipython",
    "version": 3
   },
   "file_extension": ".py",
   "mimetype": "text/x-python",
   "name": "python",
   "nbconvert_exporter": "python",
   "pygments_lexer": "ipython3",
   "version": "3.10.4"
  }
 },
 "nbformat": 4,
 "nbformat_minor": 2
}
